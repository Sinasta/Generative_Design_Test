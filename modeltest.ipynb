{
 "cells": [
  {
   "cell_type": "code",
   "execution_count": 25,
   "id": "measured-resolution",
   "metadata": {},
   "outputs": [
    {
     "name": "stdout",
     "output_type": "stream",
     "text": [
      "Value for Sunlit%: 90\n",
      "Value for Skyviewfactor%: 80\n"
     ]
    },
    {
     "data": {
      "text/html": [
       "<div>\n",
       "<style scoped>\n",
       "    .dataframe tbody tr th:only-of-type {\n",
       "        vertical-align: middle;\n",
       "    }\n",
       "\n",
       "    .dataframe tbody tr th {\n",
       "        vertical-align: top;\n",
       "    }\n",
       "\n",
       "    .dataframe thead th {\n",
       "        text-align: right;\n",
       "    }\n",
       "</style>\n",
       "<table border=\"1\" class=\"dataframe\">\n",
       "  <thead>\n",
       "    <tr style=\"text-align: right;\">\n",
       "      <th></th>\n",
       "      <th>0</th>\n",
       "      <th>1</th>\n",
       "      <th>2</th>\n",
       "      <th>3</th>\n",
       "      <th>4</th>\n",
       "      <th>5</th>\n",
       "      <th>6</th>\n",
       "      <th>7</th>\n",
       "      <th>8</th>\n",
       "      <th>9</th>\n",
       "      <th>...</th>\n",
       "      <th>22</th>\n",
       "      <th>23</th>\n",
       "      <th>24</th>\n",
       "      <th>25</th>\n",
       "      <th>26</th>\n",
       "      <th>27</th>\n",
       "      <th>28</th>\n",
       "      <th>29</th>\n",
       "      <th>30</th>\n",
       "      <th>31</th>\n",
       "    </tr>\n",
       "  </thead>\n",
       "  <tbody>\n",
       "    <tr>\n",
       "      <th>0</th>\n",
       "      <td>2229.4015</td>\n",
       "      <td>266.9133</td>\n",
       "      <td>3.07</td>\n",
       "      <td>16.696</td>\n",
       "      <td>1458.567</td>\n",
       "      <td>0.0235</td>\n",
       "      <td>0.0114</td>\n",
       "      <td>0.018</td>\n",
       "      <td>0.0631</td>\n",
       "      <td>0.2375</td>\n",
       "      <td>...</td>\n",
       "      <td>3.3848</td>\n",
       "      <td>0.0</td>\n",
       "      <td>0.02</td>\n",
       "      <td>0.0</td>\n",
       "      <td>0.04</td>\n",
       "      <td>0.01</td>\n",
       "      <td>0.03</td>\n",
       "      <td>0.06</td>\n",
       "      <td>0.01</td>\n",
       "      <td>0.18</td>\n",
       "    </tr>\n",
       "  </tbody>\n",
       "</table>\n",
       "<p>1 rows × 32 columns</p>\n",
       "</div>"
      ],
      "text/plain": [
       "          0         1     2       3         4       5       6      7       8   \\\n",
       "0  2229.4015  266.9133  3.07  16.696  1458.567  0.0235  0.0114  0.018  0.0631   \n",
       "\n",
       "       9   ...      22   23    24   25    26    27    28    29    30    31  \n",
       "0  0.2375  ...  3.3848  0.0  0.02  0.0  0.04  0.01  0.03  0.06  0.01  0.18  \n",
       "\n",
       "[1 rows x 32 columns]"
      ]
     },
     "execution_count": 25,
     "metadata": {},
     "output_type": "execute_result"
    }
   ],
   "source": [
    "import pandas as pd\n",
    "import pickle\n",
    "\n",
    "filename = 'trained_model.sav'\n",
    "model = pickle.load(open(filename, 'rb'))\n",
    "\n",
    "a = float(input('Value for Sunlit%: '))\n",
    "b = float(input('Value for Skyviewfactor%: '))\n",
    "data_in = [[a,b]]\n",
    "pred = model.predict(data_in)\n",
    "m_prediction = pd.DataFrame(pred)\n",
    "#m_prediction = multi_prediction.drop(multi_prediction.index[-1])\n",
    "#XY = XX.columns.name = None\n",
    "m_prediction.to_csv('./results/Situation_prediction.csv', index = False, header=None)\n",
    "#m_prediction\n",
    "m_prediction"
   ]
  }
 ],
 "metadata": {
  "kernelspec": {
   "display_name": "Python 3",
   "language": "python",
   "name": "python3"
  },
  "language_info": {
   "codemirror_mode": {
    "name": "ipython",
    "version": 3
   },
   "file_extension": ".py",
   "mimetype": "text/x-python",
   "name": "python",
   "nbconvert_exporter": "python",
   "pygments_lexer": "ipython3",
   "version": "3.9.3"
  }
 },
 "nbformat": 4,
 "nbformat_minor": 5
}
